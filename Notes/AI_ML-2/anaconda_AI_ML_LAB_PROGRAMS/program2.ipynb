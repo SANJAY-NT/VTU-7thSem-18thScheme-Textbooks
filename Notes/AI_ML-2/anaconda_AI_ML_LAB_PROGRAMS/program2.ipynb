{
 "cells": [
  {
   "cell_type": "code",
   "execution_count": 6,
   "id": "f1533363",
   "metadata": {},
   "outputs": [
    {
     "name": "stdout",
     "output_type": "stream",
     "text": [
      "concepts:\n",
      " [['sunny' 'warm' 'normal' 'strong' 'warm' 'same']\n",
      " ['sunny' 'warm' 'high' 'strong' 'warm' 'same']\n",
      " ['rainy' 'cold' 'high' 'strong' 'warm' 'change']\n",
      " ['sunny' 'warm' 'high' 'strong' 'cool' 'change']]\n",
      "target:\n",
      " ['yes' 'yes' 'no' 'yes']\n"
     ]
    }
   ],
   "source": [
    "import numpy as np\n",
    "import pandas as pd\n",
    "\n",
    "data = pd.DataFrame(data = pd.read_csv('data.csv'))\n",
    "concepts = np.array(data.iloc[:,0:-1])\n",
    "target = np.array(data.iloc[:,-1])\n",
    "print(\"concepts:\\n\",concepts)\n",
    "print(\"target:\\n\",target)"
   ]
  },
  {
   "cell_type": "code",
   "execution_count": 7,
   "id": "8fa411d8",
   "metadata": {},
   "outputs": [],
   "source": [
    "def learn(concepts,target):\n",
    "    specific_h = [0,0,0,0,0,0]\n",
    "    print('s0',specific_h)\n",
    "    \n",
    "    specific_h = concepts[0].copy()\n",
    "    print('s1',specific_h)\n",
    "    \n",
    "    general_h = [[\"?\" for i in range(len(specific_h))]   for i in range(len(specific_h))]\n",
    "    print('g0', general_h)\n",
    "    \n",
    "    for i, h in enumerate(concepts):\n",
    "        if target[i] =='yes':\n",
    "            for  x in range(len(specific_h)):\n",
    "                if h[x]!=specific_h[x]:\n",
    "                    specific_h[x] = '?'\n",
    "                    general_h[x][x] = '?'\n",
    "                    print(f\"s{x}\",specific_h)\n",
    "                    print(f\"g{x}\",general_h)\n",
    "        if target[i]=='no':\n",
    "            for x in range(len(specific_h)):\n",
    "                if h[x]!= specific_h[x]:\n",
    "                    general_h[x][x] = specific_h[x]\n",
    "                else:\n",
    "                    general_h[x][x]=\"?\"\n",
    "    \n",
    "    indices= [i for i, val in enumerate(general_h) if val == [\"?\",\"?\",\"?\",\"?\",\"?\",\"?\"]]\n",
    "    for i in indices:\n",
    "        general_h.remove([\"?\",\"?\",\"?\",\"?\",\"?\",\"?\"])\n",
    "    print(\"i\",indices)\n",
    "    \n",
    "    return specific_h,general_h\n"
   ]
  },
  {
   "cell_type": "code",
   "execution_count": 8,
   "id": "0ce5ad01",
   "metadata": {},
   "outputs": [
    {
     "name": "stdout",
     "output_type": "stream",
     "text": [
      "s0 [0, 0, 0, 0, 0, 0]\n",
      "s1 ['sunny' 'warm' 'normal' 'strong' 'warm' 'same']\n",
      "g0 [['?', '?', '?', '?', '?', '?'], ['?', '?', '?', '?', '?', '?'], ['?', '?', '?', '?', '?', '?'], ['?', '?', '?', '?', '?', '?'], ['?', '?', '?', '?', '?', '?'], ['?', '?', '?', '?', '?', '?']]\n",
      "s2 ['sunny' 'warm' '?' 'strong' 'warm' 'same']\n",
      "g2 [['?', '?', '?', '?', '?', '?'], ['?', '?', '?', '?', '?', '?'], ['?', '?', '?', '?', '?', '?'], ['?', '?', '?', '?', '?', '?'], ['?', '?', '?', '?', '?', '?'], ['?', '?', '?', '?', '?', '?']]\n",
      "s2 ['sunny' 'warm' '?' 'strong' 'warm' 'same']\n",
      "g2 [['sunny', '?', '?', '?', '?', '?'], ['?', 'warm', '?', '?', '?', '?'], ['?', '?', '?', '?', '?', '?'], ['?', '?', '?', '?', '?', '?'], ['?', '?', '?', '?', '?', '?'], ['?', '?', '?', '?', '?', 'same']]\n",
      "s4 ['sunny' 'warm' '?' 'strong' '?' 'same']\n",
      "g4 [['sunny', '?', '?', '?', '?', '?'], ['?', 'warm', '?', '?', '?', '?'], ['?', '?', '?', '?', '?', '?'], ['?', '?', '?', '?', '?', '?'], ['?', '?', '?', '?', '?', '?'], ['?', '?', '?', '?', '?', 'same']]\n",
      "s5 ['sunny' 'warm' '?' 'strong' '?' '?']\n",
      "g5 [['sunny', '?', '?', '?', '?', '?'], ['?', 'warm', '?', '?', '?', '?'], ['?', '?', '?', '?', '?', '?'], ['?', '?', '?', '?', '?', '?'], ['?', '?', '?', '?', '?', '?'], ['?', '?', '?', '?', '?', '?']]\n",
      "i [2, 3, 4, 5]\n",
      "Final specific_h:\n",
      "['sunny' 'warm' '?' 'strong' '?' '?']\n",
      "Final general_h:\n",
      "[['sunny', '?', '?', '?', '?', '?'], ['?', 'warm', '?', '?', '?', '?']]\n"
     ]
    }
   ],
   "source": [
    "s_final, g_final = learn(concepts,target)\n",
    "print(\"Final specific_h:\", s_final, sep = \"\\n\")\n",
    "print(\"Final general_h:\", g_final, sep = \"\\n\")"
   ]
  },
  {
   "cell_type": "code",
   "execution_count": null,
   "id": "115211df",
   "metadata": {},
   "outputs": [],
   "source": []
  }
 ],
 "metadata": {
  "kernelspec": {
   "display_name": "Python 3",
   "language": "python",
   "name": "python3"
  },
  "language_info": {
   "codemirror_mode": {
    "name": "ipython",
    "version": 3
   },
   "file_extension": ".py",
   "mimetype": "text/x-python",
   "name": "python",
   "nbconvert_exporter": "python",
   "pygments_lexer": "ipython3",
   "version": "3.8.8"
  }
 },
 "nbformat": 4,
 "nbformat_minor": 5
}
