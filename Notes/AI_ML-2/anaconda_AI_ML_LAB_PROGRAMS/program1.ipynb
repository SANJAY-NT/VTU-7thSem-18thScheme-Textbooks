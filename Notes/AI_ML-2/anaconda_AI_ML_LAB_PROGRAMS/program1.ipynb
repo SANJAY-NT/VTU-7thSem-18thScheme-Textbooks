{
 "cells": [
  {
   "cell_type": "code",
   "execution_count": 3,
   "id": "b3d399f8",
   "metadata": {},
   "outputs": [
    {
     "name": "stdout",
     "output_type": "stream",
     "text": [
      "['sunny', 'warm', 'normal', 'strong', 'warm', 'same', 'yes']\n",
      "['sunny', 'warm', 'high', 'strong', 'warm', 'same', 'yes']\n",
      "['rainy', 'cold', 'high', 'strong', 'warm', 'change', 'no']\n",
      "['sunny', 'warm', 'high', 'strong', 'cool', 'change', 'yes']\n",
      "final hypothesis is :\n",
      "[['sunny', 'warm', '?', 'strong', '?', '?']]\n"
     ]
    }
   ],
   "source": [
    "import csv\n",
    "\n",
    "with open('data.csv','r') as f:\n",
    "    reader=csv.reader(f)\n",
    "    your_list=list(reader)\n",
    "h=[['0','0','0','0','0','0']]\n",
    "for i in your_list:\n",
    "        print(i)\n",
    "        if i[-1]==\"yes\":\n",
    "            j=0\n",
    "            for x in i:\n",
    "                 if x!=\"yes\":\n",
    "                        if x!=h[0][j] and h[0][j]=='0':\n",
    "                            h[0][j]=x\n",
    "                        elif x!=h[0][j] and h[0][j]!='0':\n",
    "                            h[0][j]='?'\n",
    "                        else:\n",
    "                            pass\n",
    "                        j=j+1\n",
    "print(\"final hypothesis is :\")\n",
    "print(h)"
   ]
  },
  {
   "cell_type": "code",
   "execution_count": null,
   "id": "9cee19bf",
   "metadata": {},
   "outputs": [],
   "source": []
  }
 ],
 "metadata": {
  "kernelspec": {
   "display_name": "Python 3",
   "language": "python",
   "name": "python3"
  },
  "language_info": {
   "codemirror_mode": {
    "name": "ipython",
    "version": 3
   },
   "file_extension": ".py",
   "mimetype": "text/x-python",
   "name": "python",
   "nbconvert_exporter": "python",
   "pygments_lexer": "ipython3",
   "version": "3.8.8"
  }
 },
 "nbformat": 4,
 "nbformat_minor": 5
}
